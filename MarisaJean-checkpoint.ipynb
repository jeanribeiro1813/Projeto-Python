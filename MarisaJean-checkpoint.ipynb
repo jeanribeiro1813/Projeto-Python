{
 "cells": [
  {
   "cell_type": "code",
   "execution_count": 13,
   "metadata": {},
   "outputs": [],
   "source": [
    "import json\n",
    "from selenium import webdriver\n",
    "import requests"
   ]
  },
  {
   "cell_type": "code",
   "execution_count": 10,
   "metadata": {},
   "outputs": [],
   "source": [
    "driver = webdriver.Chrome('C:/Users/Jean/Documents/Python Scripts/chromedriver.exe')"
   ]
  },
  {
   "cell_type": "code",
   "execution_count": 11,
   "metadata": {},
   "outputs": [],
   "source": [
    "driver.get('https://www.marisa.com.br/store-finder')"
   ]
  },
  {
   "cell_type": "code",
   "execution_count": 69,
   "metadata": {},
   "outputs": [],
   "source": [
    "def page (pag):\n",
    "    return requests.get('https://www.marisa.com.br/store-finder?q=&page={}&latitude=-23.555745599999998&longitude=-46.7977444'.format(pag)).json()"
   ]
  },
  {
   "cell_type": "code",
   "execution_count": 57,
   "metadata": {},
   "outputs": [],
   "source": [
    "total = site['total']"
   ]
  },
  {
   "cell_type": "code",
   "execution_count": 83,
   "metadata": {},
   "outputs": [],
   "source": [
    "lit = []\n",
    "n = 0\n",
    "while len(lit) != total :\n",
    "    result = page(n)\n",
    "    n = n + 1 \n",
    "    \n",
    "    \n",
    "    for i in result['data']:\n",
    "        lit.append('{}|{}|{}|{}|{}|{}|{}'.format(i['town'],i['name'],i['line1'],i['line2'],i['postalCode'],i['latitude'],i['longitude']))\n",
    "        \n",
    "with open('DadosMarisaJean.csv', 'w') as d:\n",
    "    for item in lit:\n",
    "        d.write(item + '\\n')\n",
    "         \n"
   ]
  },
  {
   "cell_type": "code",
   "execution_count": null,
   "metadata": {},
   "outputs": [],
   "source": []
  }
 ],
 "metadata": {
  "kernelspec": {
   "display_name": "Python 3",
   "language": "python",
   "name": "python3"
  },
  "language_info": {
   "codemirror_mode": {
    "name": "ipython",
    "version": 3
   },
   "file_extension": ".py",
   "mimetype": "text/x-python",
   "name": "python",
   "nbconvert_exporter": "python",
   "pygments_lexer": "ipython3",
   "version": "3.7.2"
  }
 },
 "nbformat": 4,
 "nbformat_minor": 2
}
